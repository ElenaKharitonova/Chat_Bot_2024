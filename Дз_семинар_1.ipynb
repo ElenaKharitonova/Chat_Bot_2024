{
  "nbformat": 4,
  "nbformat_minor": 0,
  "metadata": {
    "colab": {
      "provenance": [],
      "authorship_tag": "ABX9TyM8xOjFKJWoE7Zi6FovqH9z",
      "include_colab_link": true
    },
    "kernelspec": {
      "name": "python3",
      "display_name": "Python 3"
    },
    "language_info": {
      "name": "python"
    }
  },
  "cells": [
    {
      "cell_type": "markdown",
      "metadata": {
        "id": "view-in-github",
        "colab_type": "text"
      },
      "source": [
        "<a href=\"https://colab.research.google.com/github/ElenaKharitonova/Chat_Bot_2024/blob/main/%D0%94%D0%B7_%D1%81%D0%B5%D0%BC%D0%B8%D0%BD%D0%B0%D1%80_1.ipynb\" target=\"_parent\"><img src=\"https://colab.research.google.com/assets/colab-badge.svg\" alt=\"Open In Colab\"/></a>"
      ]
    },
    {
      "cell_type": "markdown",
      "source": [
        "## Задание 1"
      ],
      "metadata": {
        "id": "RtSkfatDtMUr"
      }
    },
    {
      "cell_type": "markdown",
      "source": [
        "###1.1"
      ],
      "metadata": {
        "id": "n6n88eKPtJkO"
      }
    },
    {
      "cell_type": "code",
      "execution_count": 19,
      "metadata": {
        "colab": {
          "base_uri": "https://localhost:8080/"
        },
        "id": "0fylxkKmlHL7",
        "outputId": "53f8aa5f-2f8c-4ab4-8d44-e9ecf4d12dc0"
      },
      "outputs": [
        {
          "output_type": "stream",
          "name": "stdout",
          "text": [
            "20\n"
          ]
        }
      ],
      "source": [
        "def total_fruits(**kwargs) -> int:\n",
        "  sum_f = 0\n",
        "  for fruit, count in kwargs.items():\n",
        "    sum_f +=count\n",
        "  return sum_f\n",
        "print(total_fruits(banana = 5, mango = 7, apple = 8))"
      ]
    },
    {
      "cell_type": "markdown",
      "source": [
        "## Задание 2"
      ],
      "metadata": {
        "id": "nzZxNCvktcs_"
      }
    },
    {
      "cell_type": "markdown",
      "source": [
        "###2.1"
      ],
      "metadata": {
        "id": "uLShVuiJtnBu"
      }
    },
    {
      "cell_type": "code",
      "source": [
        "def filtr_expenses(list1: list)->list:\n",
        "  result_list = [value for value in list1 if value >= 0]\n",
        "  sum_expenses = sum(result_list)\n",
        "  return f\"Отфильтрованный список: {result_list}  Суммарные затраты = {sum_expenses}\"\n",
        "print(filtr_expenses([100,125,-90,345,655,-1,0,200]))"
      ],
      "metadata": {
        "colab": {
          "base_uri": "https://localhost:8080/"
        },
        "id": "pwMFZqzmtpYc",
        "outputId": "520ea422-2c20-4b4b-d507-dd4a3c78710c"
      },
      "execution_count": 18,
      "outputs": [
        {
          "output_type": "stream",
          "name": "stdout",
          "text": [
            "Отфильтрованный список: [100, 125, 345, 655, 0, 200]  Суммарные затраты = 1425\n"
          ]
        }
      ]
    },
    {
      "cell_type": "markdown",
      "source": [
        "## Задание 3"
      ],
      "metadata": {
        "id": "EVdNnpAAyrGb"
      }
    },
    {
      "cell_type": "markdown",
      "source": [
        "###3.1"
      ],
      "metadata": {
        "id": "QWi4xy8Byk3K"
      }
    },
    {
      "cell_type": "code",
      "source": [
        "def november_revenue(dates: list, revenues: list) -> int:\n",
        "  nov_rev = sum([revenues[i] for i in range(len(dates)) if dates[i][5:7] == '11'])\n",
        "  return nov_rev\n",
        "print(\"Выручка в ноябре: \")\n",
        "print(november_revenue(['2021-09-14', '2021-12-15', '2021-09-08', '2021-12-05', '2021-10-09', '2021-09-30',\n",
        "         '2021-12-22', '2021-11-29', '2021-12-24', '2021-11-26', '2021-10-27', '2021-12-18',\n",
        "         '2021-11-09', '2021-11-23', '2021-09-27', '2021-10-02', '2021-12-27', '2021-09-20',\n",
        "         '2021-12-13', '2021-11-01', '2021-11-09', '2021-12-06', '2021-12-08', '2021-10-09',\n",
        "         '2021-10-31', '2021-09-30', '2021-11-09', '2021-12-13', '2021-10-26', '2021-12-09'], [1270, 8413, 9028, 3703, 5739, 4095, 295, 4944, 5723, 3701, 4471, 651, 7037,\n",
        "            4274, 6275, 4988, 6930, 2971, 6592, 2004, 2822, 519, 3406, 2732, 5015, 2008,\n",
        "            316, 6333, 5700, 2887]))"
      ],
      "metadata": {
        "colab": {
          "base_uri": "https://localhost:8080/"
        },
        "id": "iuan4EbEypAK",
        "outputId": "bac2ce1c-b23a-4437-d929-26ba5e47ddf9"
      },
      "execution_count": 30,
      "outputs": [
        {
          "output_type": "stream",
          "name": "stdout",
          "text": [
            "Выручка в ноябре: \t\n",
            "25098\n"
          ]
        }
      ]
    },
    {
      "cell_type": "markdown",
      "source": [
        "##3.2"
      ],
      "metadata": {
        "id": "PyS2kvTJ3cUc"
      }
    },
    {
      "cell_type": "code",
      "source": [
        "def revenue_by_month(dates: list, revenues: list) -> dict:\n",
        "    revenue_dict = {}\n",
        "\n",
        "    for i in range(len(dates)):\n",
        "        month = dates[i][5:7]\n",
        "        if month in revenue_dict:\n",
        "            revenue_dict[month] += revenues[i]\n",
        "        else:\n",
        "            revenue_dict[month] = revenues[i]\n",
        "\n",
        "    return revenue_dict\n",
        "\n",
        "print(revenue_by_month(['2021-09-14', '2021-12-15', '2021-09-08', '2021-12-05', '2021-10-09', '2021-09-30',\n",
        "         '2021-12-22', '2021-11-29', '2021-12-24', '2021-11-26', '2021-10-27', '2021-12-18',\n",
        "         '2021-11-09', '2021-11-23', '2021-09-27', '2021-10-02', '2021-12-27', '2021-09-20',\n",
        "         '2021-12-13', '2021-11-01', '2021-11-09', '2021-12-06', '2021-12-08', '2021-10-09',\n",
        "         '2021-10-31', '2021-09-30', '2021-11-09', '2021-12-13', '2021-10-26', '2021-12-09'], [1270, 8413, 9028, 3703, 5739, 4095, 295, 4944, 5723, 3701, 4471, 651, 7037,\n",
        "            4274, 6275, 4988, 6930, 2971, 6592, 2004, 2822, 519, 3406, 2732, 5015, 2008,\n",
        "            316, 6333, 5700, 2887]))"
      ],
      "metadata": {
        "colab": {
          "base_uri": "https://localhost:8080/"
        },
        "id": "PWpg1TpK3XLc",
        "outputId": "975beb54-e9e0-4540-d172-b3827ad33f18"
      },
      "execution_count": 31,
      "outputs": [
        {
          "output_type": "stream",
          "name": "stdout",
          "text": [
            "{'09': 25647, '12': 45452, '10': 28645, '11': 25098}\n"
          ]
        }
      ]
    }
  ]
}